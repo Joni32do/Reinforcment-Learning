{
 "cells": [
  {
   "cell_type": "markdown",
   "metadata": {},
   "source": [
    "# Questions\n",
    "\n",
    "### Lecture 5\n",
    "\n",
    "* Sarsa has $\\varepsilon$ greedy policy as target and behavior policy, but it deploys the greedy policy after training is finished?"
   ]
  },
  {
   "cell_type": "markdown",
   "metadata": {},
   "source": [
    "### Lecture 6\n",
    "* Why is Dyna-Q+ even better then Dyna-Q for slide 16? \n",
    "  * For 17 it is clear, since the exploration is 'for free' (i.e. no matter what path is taken, it takes the same amount of steps)"
   ]
  },
  {
   "cell_type": "markdown",
   "metadata": {},
   "source": []
  }
 ],
 "metadata": {
  "language_info": {
   "name": "python"
  }
 },
 "nbformat": 4,
 "nbformat_minor": 2
}
